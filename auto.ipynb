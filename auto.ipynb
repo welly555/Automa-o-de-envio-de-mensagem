{
 "cells": [
  {
   "cell_type": "code",
   "execution_count": 13,
   "id": "51ddb614",
   "metadata": {},
   "outputs": [
    {
     "data": {
      "text/html": [
       "<div>\n",
       "<style scoped>\n",
       "    .dataframe tbody tr th:only-of-type {\n",
       "        vertical-align: middle;\n",
       "    }\n",
       "\n",
       "    .dataframe tbody tr th {\n",
       "        vertical-align: top;\n",
       "    }\n",
       "\n",
       "    .dataframe thead th {\n",
       "        text-align: right;\n",
       "    }\n",
       "</style>\n",
       "<table border=\"1\" class=\"dataframe\">\n",
       "  <thead>\n",
       "    <tr style=\"text-align: right;\">\n",
       "      <th></th>\n",
       "      <th>Nome</th>\n",
       "      <th>Numero</th>\n",
       "      <th>Mensagem</th>\n",
       "    </tr>\n",
       "  </thead>\n",
       "  <tbody>\n",
       "    <tr>\n",
       "      <th>0</th>\n",
       "      <td>Helen</td>\n",
       "      <td>55_8394079675</td>\n",
       "      <td>teste automação</td>\n",
       "    </tr>\n",
       "    <tr>\n",
       "      <th>1</th>\n",
       "      <td>dvd</td>\n",
       "      <td>55_8398006052</td>\n",
       "      <td>teste automação</td>\n",
       "    </tr>\n",
       "  </tbody>\n",
       "</table>\n",
       "</div>"
      ],
      "text/plain": [
       "    Nome         Numero         Mensagem\n",
       "0  Helen  55_8394079675  teste automação\n",
       "1    dvd  55_8398006052  teste automação"
      ]
     },
     "metadata": {},
     "output_type": "display_data"
    }
   ],
   "source": [
    "import pandas as pd\n",
    "\n",
    "contato_df = pd.read_excel(\"Enviar.xlsx\")\n",
    "display(contato_df)"
   ]
  },
  {
   "cell_type": "code",
   "execution_count": 37,
   "id": "99c2ea8c",
   "metadata": {},
   "outputs": [],
   "source": [
    "import pyautogui \n",
    "import webbrowser as web\n",
    "import time\n",
    "\n",
    "pyautogui.PAUSE = 6\n",
    "data_dict = contato_df.to_dict('list')\n",
    "\n",
    "num = data_dict['Numero']\n",
    "msg = data_dict['Mensagem']\n",
    "combo = zip(num,msg)\n",
    "fist = True\n",
    "\n",
    "for num,msg in combo:\n",
    "    web.open(\"https://web.whatsapp.com/send?phone=\"+num+\"&text=\"+msg)\n",
    "    if fist:\n",
    "        fist = False\n",
    "    width,height = pg.size()\n",
    "    pyautogui.click(width/2,height/2)\n",
    "    pyautogui.press('esc')\n",
    "    \n",
    "    \n",
    "    pyautogui.press('enter')\n",
    "    pyautogui.hotkey('ctrl','w')\n",
    "    pyautogui.press('enter')"
   ]
  },
  {
   "cell_type": "code",
   "execution_count": 44,
   "id": "9a66aeef",
   "metadata": {},
   "outputs": [
    {
     "data": {
      "text/plain": [
       "Point(x=2005, y=459)"
      ]
     },
     "execution_count": 44,
     "metadata": {},
     "output_type": "execute_result"
    }
   ],
   "source": [
    "pyautogui.position()"
   ]
  },
  {
   "cell_type": "code",
   "execution_count": null,
   "id": "9e5affc0",
   "metadata": {},
   "outputs": [],
   "source": []
  },
  {
   "cell_type": "code",
   "execution_count": null,
   "id": "a6842d55",
   "metadata": {},
   "outputs": [],
   "source": []
  }
 ],
 "metadata": {
  "kernelspec": {
   "display_name": "Python 3 (ipykernel)",
   "language": "python",
   "name": "python3"
  },
  "language_info": {
   "codemirror_mode": {
    "name": "ipython",
    "version": 3
   },
   "file_extension": ".py",
   "mimetype": "text/x-python",
   "name": "python",
   "nbconvert_exporter": "python",
   "pygments_lexer": "ipython3",
   "version": "3.9.7"
  }
 },
 "nbformat": 4,
 "nbformat_minor": 5
}
